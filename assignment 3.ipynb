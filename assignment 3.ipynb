{
 "cells": [
  {
   "cell_type": "code",
   "execution_count": 105,
   "metadata": {},
   "outputs": [
    {
     "name": "stderr",
     "output_type": "stream",
     "text": [
      "[nltk_data] Downloading package vader_lexicon to\n",
      "[nltk_data]     C:\\Users\\cavit\\AppData\\Roaming\\nltk_data...\n",
      "[nltk_data]   Package vader_lexicon is already up-to-date!\n"
     ]
    }
   ],
   "source": [
    "import pandas as pd\n",
    "import numpy as np\n",
    "import pickle\n",
    "from datetime import datetime\n",
    "import re\n",
    "\n",
    "from tqdm import tqdm\n",
    "tqdm.pandas()\n",
    "\n",
    "import nltk\n",
    "nltk.download('vader_lexicon')\n",
    "from nltk.sentiment.vader import SentimentIntensityAnalyzer\n",
    "\n",
    "data = pd.read_csv(r'data.csv')\n",
    "df = pd.DataFrame(data)"
   ]
  },
  {
   "cell_type": "code",
   "execution_count": 138,
   "metadata": {},
   "outputs": [
    {
     "data": {
      "text/plain": [
       "<bound method NDFrame.describe of       beer_ABV  beer_beerId  beer_brewerId               beer_name  \\\n",
       "0          5.0        47986          10325            Sausa Weizen   \n",
       "1          6.2        48213          10325                Red Moon   \n",
       "2          6.5        48215          10325  Black Horse Black Beer   \n",
       "3          5.0        47969          10325              Sausa Pils   \n",
       "4          7.7        64883           1075           Cauldron DIPA   \n",
       "...        ...          ...            ...                     ...   \n",
       "1606      10.5         3635             22             La Terrible   \n",
       "1607      10.5         3635             22             La Terrible   \n",
       "1608      10.5         3635             22             La Terrible   \n",
       "1609      10.5         3635             22             La Terrible   \n",
       "1610      10.5         3635             22             La Terrible   \n",
       "\n",
       "                          beer_style  review_appearance  review_palette  \\\n",
       "0                         Hefeweizen                2.5             2.0   \n",
       "1                 English Strong Ale                3.0             2.5   \n",
       "2             Foreign / Export Stout                3.0             2.5   \n",
       "3                    German Pilsener                3.5             3.0   \n",
       "4     American Double / Imperial IPA                4.0             4.5   \n",
       "...                              ...                ...             ...   \n",
       "1606         Belgian Strong Dark Ale                3.5             3.5   \n",
       "1607         Belgian Strong Dark Ale                4.0             4.0   \n",
       "1608         Belgian Strong Dark Ale                3.5             4.0   \n",
       "1609         Belgian Strong Dark Ale                4.0             4.0   \n",
       "1610         Belgian Strong Dark Ale                4.0             3.5   \n",
       "\n",
       "      review_overall  review_taste review_profileName  review_aroma  \\\n",
       "0                1.5           1.5            stcules           1.5   \n",
       "1                3.0           3.0            stcules           3.0   \n",
       "2                3.0           3.0            stcules           3.0   \n",
       "3                3.0           2.5            stcules           3.0   \n",
       "4                4.0           4.0     johnmichaelsen           4.5   \n",
       "...              ...           ...                ...           ...   \n",
       "1606             4.0           4.0           bump8628           4.0   \n",
       "1607             4.0           3.5       StlHopHead77           4.0   \n",
       "1608             3.5           4.5             weazal           4.0   \n",
       "1609             4.5           4.5            GRG1313           4.5   \n",
       "1610             3.0           3.0         coldmeat23           4.0   \n",
       "\n",
       "                                            review_text         review_time  \\\n",
       "0     A lot of foam. But a lot. In the smell some ba... 2009-02-16 20:57:03   \n",
       "1     Dark red color, light beige foam, average. In ... 2009-03-01 13:44:57   \n",
       "2     Almost totally black. Beige foam, quite compac... 2009-03-01 14:10:04   \n",
       "3     Golden yellow color. White, compact foam, quit... 2009-02-15 19:12:25   \n",
       "4     According to the website, the style for the Ca... 2010-12-30 18:53:26   \n",
       "...                                                 ...                 ...   \n",
       "1606  Nice surprise to find this on draft locally, a... 2011-10-19 15:05:08   \n",
       "1607  A-Pours a somewhere between darkest possible b... 2011-10-10 11:42:16   \n",
       "1608  S: Dark and rich. Primarily raisins and malt, ... 2009-07-07 04:59:36   \n",
       "1609  Pours very dark brown with orange tint. Big ca... 2009-07-07 03:10:11   \n",
       "1610  GLASS: Snifter TEMP: Cellared @ approx 45 degr... 2009-07-02 13:38:05   \n",
       "\n",
       "      year  weighted_rating  \n",
       "0     2009             1.70  \n",
       "1     2009             2.90  \n",
       "2     2009             2.90  \n",
       "3     2009             2.95  \n",
       "4     2010             4.15  \n",
       "...    ...              ...  \n",
       "1606  2011             3.85  \n",
       "1607  2011             3.90  \n",
       "1608  2009             3.85  \n",
       "1609  2009             4.35  \n",
       "1610  2009             3.30  \n",
       "\n",
       "[1611 rows x 15 columns]>"
      ]
     },
     "execution_count": 138,
     "metadata": {},
     "output_type": "execute_result"
    }
   ],
   "source": [
    "df.head(3)\n",
    "df.describe"
   ]
  },
  {
   "cell_type": "markdown",
   "metadata": {},
   "source": [
    "1. Rank top 3 Breweries which produce the strongest beers?"
   ]
  },
  {
   "cell_type": "code",
   "execution_count": 106,
   "metadata": {},
   "outputs": [
    {
     "name": "stdout",
     "output_type": "stream",
     "text": [
      "Top 3 Breweries Producing the Strongest Beers:\n",
      "beer_brewerId\n",
      "22      10.500000\n",
      "694     10.100000\n",
      "2724     7.643243\n",
      "Name: beer_ABV, dtype: float64\n"
     ]
    }
   ],
   "source": [
    "\n",
    "# group by brewerId and calculate the average ABV for each brewery\n",
    "brewery_avg_abv = df.groupby('beer_brewerId')['beer_ABV'].mean()\n",
    "\n",
    "# sort breweries by average ABV in descending order and select the top 3\n",
    "top_3_breweries = brewery_avg_abv.sort_values(ascending=False).head(3)\n",
    "\n",
    "print(\"Top 3 Breweries Producing the Strongest Beers:\")\n",
    "print(top_3_breweries)\n"
   ]
  },
  {
   "cell_type": "markdown",
   "metadata": {},
   "source": [
    "2. Which year did beers enjoy the highest ratings? "
   ]
  },
  {
   "cell_type": "code",
   "execution_count": 107,
   "metadata": {},
   "outputs": [
    {
     "name": "stdout",
     "output_type": "stream",
     "text": [
      "Year with the highest average ratings for beers: 2012\n"
     ]
    }
   ],
   "source": [
    "# convert review_time to datetime\n",
    "df['review_time'] = pd.to_datetime(df['review_time'], unit='s')\n",
    "\n",
    "# extract year from review_time\n",
    "df['year'] = df['review_time'].dt.year\n",
    "\n",
    "# group by year and calculate the average rating for each year\n",
    "average_ratings_by_year = df.groupby('year')['review_overall'].mean()\n",
    "\n",
    "# find the year with the highest average rating\n",
    "highest_rated_year = average_ratings_by_year.idxmax()\n",
    "\n",
    "print(\"Year with the highest average ratings for beers:\", highest_rated_year)"
   ]
  },
  {
   "cell_type": "markdown",
   "metadata": {},
   "source": [
    "3. Based on the user’s ratings which factors are important among taste, aroma, appearance, and palette?"
   ]
  },
  {
   "cell_type": "code",
   "execution_count": 108,
   "metadata": {},
   "outputs": [
    {
     "name": "stdout",
     "output_type": "stream",
     "text": [
      "Correlation between each factor and overall review rating:\n",
      "review_aroma         0.846201\n",
      "review_taste         0.783129\n",
      "review_palette       0.739925\n",
      "review_appearance    0.656940\n",
      "Name: review_overall, dtype: float64\n"
     ]
    }
   ],
   "source": [
    "# Calculate correlation matrix\n",
    "correlation_matrix = df[['review_taste', 'review_aroma', 'review_appearance', 'review_palette', 'review_overall']].corr()\n",
    "\n",
    "# Extract correlations with review_overall\n",
    "correlations_with_overall = correlation_matrix['review_overall'].drop('review_overall')\n",
    "\n",
    "# Sort correlations in descending order\n",
    "sorted_correlations = correlations_with_overall.sort_values(ascending=False)\n",
    "\n",
    "print(\"Correlation between each factor and overall review rating:\")\n",
    "print(sorted_correlations)"
   ]
  },
  {
   "cell_type": "markdown",
   "metadata": {},
   "source": [
    "so review_aroma has highest corellation which is important"
   ]
  },
  {
   "cell_type": "markdown",
   "metadata": {},
   "source": [
    "4. If you were to recommend 3 beers to your friends based on this data which ones will you recommend? * need to edit"
   ]
  },
  {
   "cell_type": "code",
   "execution_count": 109,
   "metadata": {},
   "outputs": [
    {
     "name": "stdout",
     "output_type": "stream",
     "text": [
      "Recommended beers for my friends:\n"
     ]
    },
    {
     "data": {
      "text/html": [
       "<div>\n",
       "<style scoped>\n",
       "    .dataframe tbody tr th:only-of-type {\n",
       "        vertical-align: middle;\n",
       "    }\n",
       "\n",
       "    .dataframe tbody tr th {\n",
       "        vertical-align: top;\n",
       "    }\n",
       "\n",
       "    .dataframe thead th {\n",
       "        text-align: right;\n",
       "    }\n",
       "</style>\n",
       "<table border=\"1\" class=\"dataframe\">\n",
       "  <thead>\n",
       "    <tr style=\"text-align: right;\">\n",
       "      <th></th>\n",
       "      <th>beer_name</th>\n",
       "      <th>weighted_rating</th>\n",
       "      <th>review_text</th>\n",
       "    </tr>\n",
       "  </thead>\n",
       "  <tbody>\n",
       "    <tr>\n",
       "      <th>433</th>\n",
       "      <td>Caldera IPA</td>\n",
       "      <td>5.00</td>\n",
       "      <td>12 oz can poured into duvel snifter A - pours ...</td>\n",
       "    </tr>\n",
       "    <tr>\n",
       "      <th>1533</th>\n",
       "      <td>T.J.'s Best Bitter</td>\n",
       "      <td>5.00</td>\n",
       "      <td>Holy crap. This beer is amazing. Wow. Holy cra...</td>\n",
       "    </tr>\n",
       "    <tr>\n",
       "      <th>281</th>\n",
       "      <td>Old Growth Imperial Stout</td>\n",
       "      <td>4.95</td>\n",
       "      <td>Aroma is absolutely heavenly - smoky with firm...</td>\n",
       "    </tr>\n",
       "  </tbody>\n",
       "</table>\n",
       "</div>"
      ],
      "text/plain": [
       "                      beer_name  weighted_rating  \\\n",
       "433                 Caldera IPA             5.00   \n",
       "1533         T.J.'s Best Bitter             5.00   \n",
       "281   Old Growth Imperial Stout             4.95   \n",
       "\n",
       "                                            review_text  \n",
       "433   12 oz can poured into duvel snifter A - pours ...  \n",
       "1533  Holy crap. This beer is amazing. Wow. Holy cra...  \n",
       "281   Aroma is absolutely heavenly - smoky with firm...  "
      ]
     },
     "execution_count": 109,
     "metadata": {},
     "output_type": "execute_result"
    }
   ],
   "source": [
    "# assigning custom weights\n",
    "weights = {'review_overall': 0.4, 'review_taste': 0.2, 'review_aroma': 0.1, 'review_appearance': 0.1, 'review_palette': 0.2}\n",
    "df['weighted_rating'] = (df[list(weights.keys())] * pd.Series(weights)).sum(axis=1)\n",
    "\n",
    "# sort beers by weighted rating in descending order\n",
    "recommended_beers = df.sort_values(by='weighted_rating', ascending=False).head(3)\n",
    "\n",
    "print(\"Recommended beers for my friends:\")\n",
    "#print(recommended_beers[['beer_name', 'weighted_rating', 'review_text']])\n",
    "recommended_beers[['beer_name', 'weighted_rating', 'review_text']].head(3)"
   ]
  },
  {
   "cell_type": "markdown",
   "metadata": {},
   "source": [
    "how the weights were calculated:\n",
    "\n",
    "Review Overall: This factor represents the overall review rating given by users. Since it reflects the overall satisfaction with the beer, it was assigned the highest weight of 0.4.\n",
    "Review Taste: Taste is a crucial aspect of beer enjoyment, so it was assigned a weight of 0.2, reflecting its importance in the overall rating.\n",
    "Review Aroma: Aroma contributes significantly to the sensory experience of drinking beer, but it may be slightly less important than taste. Therefore, it was assigned a weight of 0.1.\n",
    "Review Appearance: While appearance can influence the initial impression of a beer, its impact on overall enjoyment may be somewhat lower compared to taste and aroma. Hence, it was assigned a weight of 0.1.\n",
    "Review Palette: Palette, which likely refers to the mouthfeel or texture of the beer, was also considered important but slightly less so compared to taste and aroma. Therefore, it was assigned a weight of 0.2."
   ]
  },
  {
   "cell_type": "markdown",
   "metadata": {},
   "source": [
    "5. Which Beer style seems to be the favorite based on reviews written by users? "
   ]
  },
  {
   "cell_type": "code",
   "execution_count": 110,
   "metadata": {},
   "outputs": [
    {
     "data": {
      "text/html": [
       "<div>\n",
       "<style scoped>\n",
       "    .dataframe tbody tr th:only-of-type {\n",
       "        vertical-align: middle;\n",
       "    }\n",
       "\n",
       "    .dataframe tbody tr th {\n",
       "        vertical-align: top;\n",
       "    }\n",
       "\n",
       "    .dataframe thead th {\n",
       "        text-align: right;\n",
       "    }\n",
       "</style>\n",
       "<table border=\"1\" class=\"dataframe\">\n",
       "  <thead>\n",
       "    <tr style=\"text-align: right;\">\n",
       "      <th></th>\n",
       "      <th>beer_beerId</th>\n",
       "      <th>beer_name</th>\n",
       "      <th>beer_ABV</th>\n",
       "      <th>beer_style</th>\n",
       "      <th>review_overall</th>\n",
       "      <th>review_text</th>\n",
       "    </tr>\n",
       "  </thead>\n",
       "  <tbody>\n",
       "    <tr>\n",
       "      <th>0</th>\n",
       "      <td>64883</td>\n",
       "      <td>Cauldron DIPA</td>\n",
       "      <td>7.7</td>\n",
       "      <td>American Double / Imperial IPA</td>\n",
       "      <td>4.0</td>\n",
       "      <td>According to the website, the style for the Ca...</td>\n",
       "    </tr>\n",
       "    <tr>\n",
       "      <th>1</th>\n",
       "      <td>52159</td>\n",
       "      <td>Caldera Ginger Beer</td>\n",
       "      <td>4.7</td>\n",
       "      <td>Herbed / Spiced Beer</td>\n",
       "      <td>4.0</td>\n",
       "      <td>I'm not sure why I picked this up... I like gi...</td>\n",
       "    </tr>\n",
       "    <tr>\n",
       "      <th>2</th>\n",
       "      <td>52159</td>\n",
       "      <td>Caldera Ginger Beer</td>\n",
       "      <td>4.7</td>\n",
       "      <td>Herbed / Spiced Beer</td>\n",
       "      <td>4.5</td>\n",
       "      <td>Poured from a 22oz bomber into my Drie Fontein...</td>\n",
       "    </tr>\n",
       "    <tr>\n",
       "      <th>3</th>\n",
       "      <td>52159</td>\n",
       "      <td>Caldera Ginger Beer</td>\n",
       "      <td>4.7</td>\n",
       "      <td>Herbed / Spiced Beer</td>\n",
       "      <td>5.0</td>\n",
       "      <td>OK, so the only reason I bought this while sho...</td>\n",
       "    </tr>\n",
       "    <tr>\n",
       "      <th>4</th>\n",
       "      <td>52159</td>\n",
       "      <td>Caldera Ginger Beer</td>\n",
       "      <td>4.7</td>\n",
       "      <td>Herbed / Spiced Beer</td>\n",
       "      <td>4.0</td>\n",
       "      <td>Notes from 6/24 A: Bright golden glowing beer ...</td>\n",
       "    </tr>\n",
       "  </tbody>\n",
       "</table>\n",
       "</div>"
      ],
      "text/plain": [
       "   beer_beerId            beer_name  beer_ABV                      beer_style  \\\n",
       "0        64883        Cauldron DIPA       7.7  American Double / Imperial IPA   \n",
       "1        52159  Caldera Ginger Beer       4.7            Herbed / Spiced Beer   \n",
       "2        52159  Caldera Ginger Beer       4.7            Herbed / Spiced Beer   \n",
       "3        52159  Caldera Ginger Beer       4.7            Herbed / Spiced Beer   \n",
       "4        52159  Caldera Ginger Beer       4.7            Herbed / Spiced Beer   \n",
       "\n",
       "   review_overall                                        review_text  \n",
       "0             4.0  According to the website, the style for the Ca...  \n",
       "1             4.0  I'm not sure why I picked this up... I like gi...  \n",
       "2             4.5  Poured from a 22oz bomber into my Drie Fontein...  \n",
       "3             5.0  OK, so the only reason I bought this while sho...  \n",
       "4             4.0  Notes from 6/24 A: Bright golden glowing beer ...  "
      ]
     },
     "execution_count": 110,
     "metadata": {},
     "output_type": "execute_result"
    }
   ],
   "source": [
    "# taking relevant columns\n",
    "reviewTextData = data[['beer_beerId','beer_name','beer_ABV','beer_style','review_overall','review_text']]\n",
    "\n",
    "# taking higher ranked reviews only >4 (from the overall reviews column)\n",
    "reviewTextData = reviewTextData.loc[reviewTextData['review_overall'] >= 4]\n",
    "\n",
    "# resetting Index\n",
    "reviewTextData.reset_index(drop=True,inplace=True)\n",
    "\n",
    "reviewTextData.head()"
   ]
  },
  {
   "cell_type": "code",
   "execution_count": 111,
   "metadata": {},
   "outputs": [
    {
     "data": {
      "text/plain": [
       "\"According to the website, the style for the Caldera Cauldron changes every year. The current release is a DIPA, which frankly is the only cauldron I'm familiar with (it was an IPA/DIPA the last time I ordered a cauldron at the horsebrass several years back). In any event... at the Horse Brass yesterday. The beer pours an orange copper color with good head retention and lacing. The nose is all hoppy IPA goodness, showcasing a huge aroma of dry citrus, pine and sandlewood. The flavor profile replicates the nose pretty closely in this West Coast all the way DIPA. This DIPA is not for the faint of heart and is a bit much even for a hophead like myslf. The finish is quite dry and hoppy, and there's barely enough sweet malt to balance and hold up the avalanche of hoppy bitterness in this beer. Mouthfeel is actually fairly light, with a long, persistentely bitter finish. Drinkability is good, with the alcohol barely noticeable in this well crafted beer. Still, this beer is so hugely hoppy/bitter, it's really hard for me to imagine ordering more than a single glass. Regardless, this is a very impressive beer from the folks at Caldera.\""
      ]
     },
     "execution_count": 111,
     "metadata": {},
     "output_type": "execute_result"
    }
   ],
   "source": [
    "reviewTextData.review_text[0]"
   ]
  },
  {
   "cell_type": "code",
   "execution_count": 141,
   "metadata": {},
   "outputs": [],
   "source": [
    "# text preprocessing\n",
    "import re\n",
    "\n",
    "# initial text processing replacing short forms\n",
    "def decontracted(phrase):\n",
    "    # specific\n",
    "    phrase = re.sub(r\"won't\", \"will not\", phrase)\n",
    "    phrase = re.sub(r\"can\\'t\", \"can not\", phrase)\n",
    "    phrase = re.sub(r\"it\\'s\", \"it is\", phrase)\n",
    "\n",
    "    # general\n",
    "    phrase = re.sub(r\"n\\'t\", \" not\", phrase)\n",
    "    phrase = re.sub(r\"\\'re\", \" are\", phrase)\n",
    "    phrase = re.sub(r\"\\'s\", \" is\", phrase)\n",
    "    phrase = re.sub(r\"\\'d\", \" would\", phrase)\n",
    "    phrase = re.sub(r\"\\'ll\", \" will\", phrase)\n",
    "    phrase = re.sub(r\"\\'t\", \" not\", phrase)\n",
    "    phrase = re.sub(r\"\\'ve\", \" have\", phrase)\n",
    "    phrase = re.sub(r\"\\'m\", \" am\", phrase)\n",
    "    \n",
    "    return phrase"
   ]
  },
  {
   "cell_type": "code",
   "execution_count": 142,
   "metadata": {},
   "outputs": [
    {
     "name": "stderr",
     "output_type": "stream",
     "text": [
      "100%|██████████| 835/835 [00:00<00:00, 14306.14it/s]\n"
     ]
    }
   ],
   "source": [
    "# extracting text reviews and applying text preprocessing on it\n",
    "preprocessed_reviews = []\n",
    "\n",
    "for sentance in tqdm(reviewTextData['review_text'].values): # tqdm prints the status bar\n",
    "    sentance = decontracted(sentance) # deconstructiong short forms\n",
    "    sentance = re.sub(\"\\S*\\d\\S*\", \"\", sentance).strip() # remove words with numbers \n",
    "    \n",
    "    preprocessed_reviews.append(sentance) # form sentence again"
   ]
  },
  {
   "cell_type": "code",
   "execution_count": 114,
   "metadata": {},
   "outputs": [
    {
     "data": {
      "text/plain": [
       "'According to the website, the style for the Caldera Cauldron changes every year. The current release is a DIPA, which frankly is the only cauldron I am familiar with (it was an IPA/DIPA the last time I ordered a cauldron at the horsebrass several years back). In any event... at the Horse Brass yesterday. The beer pours an orange copper color with good head retention and lacing. The nose is all hoppy IPA goodness, showcasing a huge aroma of dry citrus, pine and sandlewood. The flavor profile replicates the nose pretty closely in this West Coast all the way DIPA. This DIPA is not for the faint of heart and is a bit much even for a hophead like myslf. The finish is quite dry and hoppy, and there is barely enough sweet malt to balance and hold up the avalanche of hoppy bitterness in this beer. Mouthfeel is actually fairly light, with a long, persistentely bitter finish. Drinkability is good, with the alcohol barely noticeable in this well crafted beer. Still, this beer is so hugely hoppy/bitter, it is really hard for me to imagine ordering more than a single glass. Regardless, this is a very impressive beer from the folks at Caldera.'"
      ]
     },
     "execution_count": 114,
     "metadata": {},
     "output_type": "execute_result"
    }
   ],
   "source": [
    "preprocessed_reviews[0]"
   ]
  },
  {
   "cell_type": "code",
   "execution_count": 115,
   "metadata": {},
   "outputs": [],
   "source": [
    "# appending preprocessed reviews to the filtered dataframe\n",
    "reviewTextData['preprocessed_review_text'] = preprocessed_reviews"
   ]
  },
  {
   "cell_type": "code",
   "execution_count": 143,
   "metadata": {},
   "outputs": [
    {
     "name": "stderr",
     "output_type": "stream",
     "text": [
      "100%|██████████| 835/835 [00:00<00:00, 910.08it/s]\n"
     ]
    }
   ],
   "source": [
    "# instantiating Sentiment Analyzer\n",
    "sianalyzer = SentimentIntensityAnalyzer()\n",
    "\n",
    "# loop over the 'preprocessed_review_text' column and calculate the polarity score for each review\n",
    "reviewTextData['polarity_score2'] = reviewTextData['preprocessed_review_text'].progress_apply(lambda x: sianalyzer.polarity_scores(x)['compound'])"
   ]
  },
  {
   "cell_type": "code",
   "execution_count": 144,
   "metadata": {},
   "outputs": [
    {
     "data": {
      "text/plain": [
       "beer_style\n",
       "Dortmunder / Export Lager    0.9826\n",
       "English Porter               0.9668\n",
       "American Blonde Ale          0.9659\n",
       "Märzen / Oktoberfest         0.9626\n",
       "Cream Ale                    0.9587\n",
       "Name: polarity_score2, dtype: float64"
      ]
     },
     "execution_count": 144,
     "metadata": {},
     "output_type": "execute_result"
    }
   ],
   "source": [
    "# grouping and calculate mean polarity score.\n",
    "reviewTextDataGroupped = reviewTextData.groupby('beer_style')['polarity_score2'].mean()\n",
    "\n",
    "# sort the grouped data by mean polarity score\n",
    "reviewTextDataGroupped.sort_values(ascending=False)[0:5]"
   ]
  },
  {
   "cell_type": "code",
   "execution_count": 146,
   "metadata": {},
   "outputs": [
    {
     "data": {
      "text/html": [
       "<div>\n",
       "<style scoped>\n",
       "    .dataframe tbody tr th:only-of-type {\n",
       "        vertical-align: middle;\n",
       "    }\n",
       "\n",
       "    .dataframe tbody tr th {\n",
       "        vertical-align: top;\n",
       "    }\n",
       "\n",
       "    .dataframe thead th {\n",
       "        text-align: right;\n",
       "    }\n",
       "</style>\n",
       "<table border=\"1\" class=\"dataframe\">\n",
       "  <thead>\n",
       "    <tr style=\"text-align: right;\">\n",
       "      <th></th>\n",
       "      <th>beer_beerId</th>\n",
       "      <th>beer_name</th>\n",
       "      <th>beer_ABV</th>\n",
       "      <th>beer_style</th>\n",
       "      <th>review_overall</th>\n",
       "      <th>review_text</th>\n",
       "      <th>preprocessed_review_text</th>\n",
       "      <th>polarity_score2</th>\n",
       "    </tr>\n",
       "  </thead>\n",
       "  <tbody>\n",
       "    <tr>\n",
       "      <th>225</th>\n",
       "      <td>61427</td>\n",
       "      <td>Caldera Rose Petal (Kettle Series)</td>\n",
       "      <td>6.7</td>\n",
       "      <td>American Blonde Ale</td>\n",
       "      <td>4.0</td>\n",
       "      <td>A- is cloudy and light glassy goldeness S- sme...</td>\n",
       "      <td>A- is cloudy and light glassy goldeness S- sme...</td>\n",
       "      <td>0.9693</td>\n",
       "    </tr>\n",
       "    <tr>\n",
       "      <th>226</th>\n",
       "      <td>61427</td>\n",
       "      <td>Caldera Rose Petal (Kettle Series)</td>\n",
       "      <td>6.7</td>\n",
       "      <td>American Blonde Ale</td>\n",
       "      <td>4.0</td>\n",
       "      <td>It's a beautiful beer to look at. Pours crysta...</td>\n",
       "      <td>It is a beautiful beer to look at. Pours cryst...</td>\n",
       "      <td>0.9827</td>\n",
       "    </tr>\n",
       "    <tr>\n",
       "      <th>810</th>\n",
       "      <td>38275</td>\n",
       "      <td>Alaskan Summer Ale</td>\n",
       "      <td>5.5</td>\n",
       "      <td>American Blonde Ale</td>\n",
       "      <td>4.0</td>\n",
       "      <td>A: Poured a straw yellow color with a 1 finger...</td>\n",
       "      <td>A: Poured a straw yellow color with a  finger ...</td>\n",
       "      <td>0.9457</td>\n",
       "    </tr>\n",
       "  </tbody>\n",
       "</table>\n",
       "</div>"
      ],
      "text/plain": [
       "     beer_beerId                           beer_name  beer_ABV  \\\n",
       "225        61427  Caldera Rose Petal (Kettle Series)       6.7   \n",
       "226        61427  Caldera Rose Petal (Kettle Series)       6.7   \n",
       "810        38275                  Alaskan Summer Ale       5.5   \n",
       "\n",
       "              beer_style  review_overall  \\\n",
       "225  American Blonde Ale             4.0   \n",
       "226  American Blonde Ale             4.0   \n",
       "810  American Blonde Ale             4.0   \n",
       "\n",
       "                                           review_text  \\\n",
       "225  A- is cloudy and light glassy goldeness S- sme...   \n",
       "226  It's a beautiful beer to look at. Pours crysta...   \n",
       "810  A: Poured a straw yellow color with a 1 finger...   \n",
       "\n",
       "                              preprocessed_review_text  polarity_score2  \n",
       "225  A- is cloudy and light glassy goldeness S- sme...           0.9693  \n",
       "226  It is a beautiful beer to look at. Pours cryst...           0.9827  \n",
       "810  A: Poured a straw yellow color with a  finger ...           0.9457  "
      ]
     },
     "execution_count": 146,
     "metadata": {},
     "output_type": "execute_result"
    }
   ],
   "source": [
    "# observing the top 'polarity_score2' and 'beer_beerId' associated with i\n",
    "reviewTextData.loc[reviewTextData['beer_style'] == 'Dortmunder / Export Lager']\n",
    "reviewTextData.loc[reviewTextData['beer_style'] == 'American Blonde Ale']"
   ]
  },
  {
   "cell_type": "markdown",
   "metadata": {},
   "source": [
    "By observing the mean compound polarity score , we can say that the beer style \"Dortmunder / Export Lager\" is liked most but has only one person that likes it as much, we can instead say \"English Porter\" is the most famous, based on combination of polarity and higher frequency"
   ]
  },
  {
   "cell_type": "markdown",
   "metadata": {},
   "source": [
    "6. How does written review compare to overall review score for the beer styles?"
   ]
  },
  {
   "cell_type": "markdown",
   "metadata": {},
   "source": [
    "By observing the mean compound polarity score calculated we can get an idea how the user written review text is collaborating in calculating the overall review score."
   ]
  },
  {
   "cell_type": "markdown",
   "metadata": {},
   "source": [
    "7. How do find similar beer drinkers by using written reviews only?   "
   ]
  }
 ],
 "metadata": {
  "kernelspec": {
   "display_name": "Python 3",
   "language": "python",
   "name": "python3"
  },
  "language_info": {
   "codemirror_mode": {
    "name": "ipython",
    "version": 3
   },
   "file_extension": ".py",
   "mimetype": "text/x-python",
   "name": "python",
   "nbconvert_exporter": "python",
   "pygments_lexer": "ipython3",
   "version": "3.11.2"
  }
 },
 "nbformat": 4,
 "nbformat_minor": 2
}
