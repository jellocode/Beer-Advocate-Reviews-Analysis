{
 "cells": [
  {
   "cell_type": "code",
   "execution_count": 286,
   "metadata": {},
   "outputs": [
    {
     "name": "stderr",
     "output_type": "stream",
     "text": [
      "[nltk_data] Downloading package vader_lexicon to\n",
      "[nltk_data]     C:\\Users\\cavit\\AppData\\Roaming\\nltk_data...\n",
      "[nltk_data]   Package vader_lexicon is already up-to-date!\n"
     ]
    }
   ],
   "source": [
    "import pandas as pd\n",
    "import numpy as np\n",
    "import pickle\n",
    "from datetime import datetime\n",
    "import re\n",
    "\n",
    "from tqdm import tqdm\n",
    "tqdm.pandas()\n",
    "\n",
    "import nltk\n",
    "nltk.download('vader_lexicon')\n",
    "from nltk.sentiment.vader import SentimentIntensityAnalyzer\n",
    "\n",
    "data = pd.read_csv(r'data.csv')\n",
    "df = pd.DataFrame(data)"
   ]
  },
  {
   "cell_type": "code",
   "execution_count": 287,
   "metadata": {},
   "outputs": [
    {
     "data": {
      "text/plain": [
       "Index(['beer_ABV', 'beer_beerId', 'beer_brewerId', 'beer_name', 'beer_style',\n",
       "       'review_appearance', 'review_palette', 'review_overall', 'review_taste',\n",
       "       'review_profileName', 'review_aroma', 'review_text', 'review_time'],\n",
       "      dtype='object')"
      ]
     },
     "execution_count": 287,
     "metadata": {},
     "output_type": "execute_result"
    }
   ],
   "source": [
    "df.head(3)\n",
    "df.tail(3)\n",
    "df.shape\n",
    "df.columns"
   ]
  },
  {
   "cell_type": "code",
   "execution_count": 288,
   "metadata": {},
   "outputs": [
    {
     "data": {
      "text/plain": [
       "<bound method NDFrame.describe of       beer_ABV  beer_beerId  beer_brewerId               beer_name  \\\n",
       "0          5.0        47986          10325            Sausa Weizen   \n",
       "1          6.2        48213          10325                Red Moon   \n",
       "2          6.5        48215          10325  Black Horse Black Beer   \n",
       "3          5.0        47969          10325              Sausa Pils   \n",
       "4          7.7        64883           1075           Cauldron DIPA   \n",
       "...        ...          ...            ...                     ...   \n",
       "1606      10.5         3635             22             La Terrible   \n",
       "1607      10.5         3635             22             La Terrible   \n",
       "1608      10.5         3635             22             La Terrible   \n",
       "1609      10.5         3635             22             La Terrible   \n",
       "1610      10.5         3635             22             La Terrible   \n",
       "\n",
       "                          beer_style  review_appearance  review_palette  \\\n",
       "0                         Hefeweizen                2.5             2.0   \n",
       "1                 English Strong Ale                3.0             2.5   \n",
       "2             Foreign / Export Stout                3.0             2.5   \n",
       "3                    German Pilsener                3.5             3.0   \n",
       "4     American Double / Imperial IPA                4.0             4.5   \n",
       "...                              ...                ...             ...   \n",
       "1606         Belgian Strong Dark Ale                3.5             3.5   \n",
       "1607         Belgian Strong Dark Ale                4.0             4.0   \n",
       "1608         Belgian Strong Dark Ale                3.5             4.0   \n",
       "1609         Belgian Strong Dark Ale                4.0             4.0   \n",
       "1610         Belgian Strong Dark Ale                4.0             3.5   \n",
       "\n",
       "      review_overall  review_taste review_profileName  review_aroma  \\\n",
       "0                1.5           1.5            stcules           1.5   \n",
       "1                3.0           3.0            stcules           3.0   \n",
       "2                3.0           3.0            stcules           3.0   \n",
       "3                3.0           2.5            stcules           3.0   \n",
       "4                4.0           4.0     johnmichaelsen           4.5   \n",
       "...              ...           ...                ...           ...   \n",
       "1606             4.0           4.0           bump8628           4.0   \n",
       "1607             4.0           3.5       StlHopHead77           4.0   \n",
       "1608             3.5           4.5             weazal           4.0   \n",
       "1609             4.5           4.5            GRG1313           4.5   \n",
       "1610             3.0           3.0         coldmeat23           4.0   \n",
       "\n",
       "                                            review_text  review_time  \n",
       "0     A lot of foam. But a lot. In the smell some ba...   1234817823  \n",
       "1     Dark red color, light beige foam, average. In ...   1235915097  \n",
       "2     Almost totally black. Beige foam, quite compac...   1235916604  \n",
       "3     Golden yellow color. White, compact foam, quit...   1234725145  \n",
       "4     According to the website, the style for the Ca...   1293735206  \n",
       "...                                                 ...          ...  \n",
       "1606  Nice surprise to find this on draft locally, a...   1319036708  \n",
       "1607  A-Pours a somewhere between darkest possible b...   1318246936  \n",
       "1608  S: Dark and rich. Primarily raisins and malt, ...   1246942776  \n",
       "1609  Pours very dark brown with orange tint. Big ca...   1246936211  \n",
       "1610  GLASS: Snifter TEMP: Cellared @ approx 45 degr...   1246541885  \n",
       "\n",
       "[1611 rows x 13 columns]>"
      ]
     },
     "execution_count": 288,
     "metadata": {},
     "output_type": "execute_result"
    }
   ],
   "source": [
    "df.describe"
   ]
  },
  {
   "cell_type": "code",
   "execution_count": 289,
   "metadata": {},
   "outputs": [
    {
     "name": "stdout",
     "output_type": "stream",
     "text": [
      "<class 'pandas.core.frame.DataFrame'>\n",
      "RangeIndex: 1611 entries, 0 to 1610\n",
      "Data columns (total 13 columns):\n",
      " #   Column              Non-Null Count  Dtype  \n",
      "---  ------              --------------  -----  \n",
      " 0   beer_ABV            1580 non-null   float64\n",
      " 1   beer_beerId         1611 non-null   int64  \n",
      " 2   beer_brewerId       1611 non-null   int64  \n",
      " 3   beer_name           1611 non-null   object \n",
      " 4   beer_style          1611 non-null   object \n",
      " 5   review_appearance   1611 non-null   float64\n",
      " 6   review_palette      1611 non-null   float64\n",
      " 7   review_overall      1611 non-null   float64\n",
      " 8   review_taste        1611 non-null   float64\n",
      " 9   review_profileName  1611 non-null   object \n",
      " 10  review_aroma        1611 non-null   float64\n",
      " 11  review_text         1611 non-null   object \n",
      " 12  review_time         1611 non-null   int64  \n",
      "dtypes: float64(6), int64(3), object(4)\n",
      "memory usage: 163.7+ KB\n"
     ]
    }
   ],
   "source": [
    "df.info()"
   ]
  },
  {
   "cell_type": "code",
   "execution_count": 290,
   "metadata": {},
   "outputs": [
    {
     "data": {
      "text/plain": [
       "Index(['beer_ABV', 'beer_beerId', 'beer_brewerId', 'beer_name', 'beer_style',\n",
       "       'review_appearance', 'review_palette', 'review_overall', 'review_taste',\n",
       "       'review_profileName', 'review_aroma', 'review_text', 'review_time'],\n",
       "      dtype='object')"
      ]
     },
     "execution_count": 290,
     "metadata": {},
     "output_type": "execute_result"
    }
   ],
   "source": [
    "df.columns"
   ]
  },
  {
   "cell_type": "code",
   "execution_count": 291,
   "metadata": {},
   "outputs": [
    {
     "name": "stdout",
     "output_type": "stream",
     "text": [
      "Unique Column : review_text \n",
      "Unique Column : review_time \n"
     ]
    }
   ],
   "source": [
    "# check unique cols in df\n",
    "for col in df.columns:\n",
    "    if df[col].is_unique:\n",
    "        print(f'Unique Column : {col} ')"
   ]
  },
  {
   "cell_type": "code",
   "execution_count": 292,
   "metadata": {},
   "outputs": [],
   "source": [
    "# reset indexes\n",
    "df = df.reset_index()"
   ]
  },
  {
   "cell_type": "markdown",
   "metadata": {},
   "source": [
    "Null values"
   ]
  },
  {
   "cell_type": "code",
   "execution_count": 293,
   "metadata": {},
   "outputs": [
    {
     "data": {
      "text/plain": [
       "index                  0\n",
       "beer_ABV              31\n",
       "beer_beerId            0\n",
       "beer_brewerId          0\n",
       "beer_name              0\n",
       "beer_style             0\n",
       "review_appearance      0\n",
       "review_palette         0\n",
       "review_overall         0\n",
       "review_taste           0\n",
       "review_profileName     0\n",
       "review_aroma           0\n",
       "review_text            0\n",
       "review_time            0\n",
       "dtype: int64"
      ]
     },
     "execution_count": 293,
     "metadata": {},
     "output_type": "execute_result"
    }
   ],
   "source": [
    "# check null counts\n",
    "df.isnull().sum()"
   ]
  },
  {
   "cell_type": "code",
   "execution_count": 294,
   "metadata": {},
   "outputs": [
    {
     "data": {
      "text/plain": [
       "index                 0\n",
       "beer_ABV              0\n",
       "beer_beerId           0\n",
       "beer_brewerId         0\n",
       "beer_name             0\n",
       "beer_style            0\n",
       "review_appearance     0\n",
       "review_palette        0\n",
       "review_overall        0\n",
       "review_taste          0\n",
       "review_profileName    0\n",
       "review_aroma          0\n",
       "review_text           0\n",
       "review_time           0\n",
       "dtype: int64"
      ]
     },
     "execution_count": 294,
     "metadata": {},
     "output_type": "execute_result"
    }
   ],
   "source": [
    "# drop null values\n",
    "df = df.dropna()\n",
    "df.isnull().sum()"
   ]
  },
  {
   "cell_type": "code",
   "execution_count": 295,
   "metadata": {},
   "outputs": [
    {
     "data": {
      "text/plain": [
       "(1580, 14)"
      ]
     },
     "execution_count": 295,
     "metadata": {},
     "output_type": "execute_result"
    }
   ],
   "source": [
    "df.shape"
   ]
  },
  {
   "cell_type": "markdown",
   "metadata": {},
   "source": [
    "Remove duplicate data"
   ]
  },
  {
   "cell_type": "code",
   "execution_count": 296,
   "metadata": {},
   "outputs": [
    {
     "data": {
      "text/plain": [
       "0           stcules\n",
       "1           stcules\n",
       "2           stcules\n",
       "3           stcules\n",
       "4    johnmichaelsen\n",
       "Name: review_profileName, dtype: object"
      ]
     },
     "execution_count": 296,
     "metadata": {},
     "output_type": "execute_result"
    }
   ],
   "source": [
    "data.review_profileName.head()"
   ]
  },
  {
   "cell_type": "code",
   "execution_count": 297,
   "metadata": {},
   "outputs": [
    {
     "data": {
      "text/plain": [
       "(1574, 14)"
      ]
     },
     "execution_count": 297,
     "metadata": {},
     "output_type": "execute_result"
    }
   ],
   "source": [
    "# sort by \"review_overall\" in descending order\n",
    "df = df.sort_values('review_overall', ascending=False)\n",
    "\n",
    "# keep the highest rating from each \"review_profilename\" and drop the rest\n",
    "df = df.drop_duplicates(subset= ['review_profileName','beer_beerId'], keep='first')\n",
    "df.shape"
   ]
  },
  {
   "cell_type": "markdown",
   "metadata": {},
   "source": [
    "1. Rank top 3 Breweries which produce the strongest beers?"
   ]
  },
  {
   "cell_type": "code",
   "execution_count": 298,
   "metadata": {},
   "outputs": [
    {
     "name": "stdout",
     "output_type": "stream",
     "text": [
      "Top 3 Breweries Producing the Strongest Beers:\n",
      "beer_brewerId\n",
      "22      10.500000\n",
      "694     10.100000\n",
      "2724     7.643243\n",
      "Name: beer_ABV, dtype: float64\n"
     ]
    }
   ],
   "source": [
    "\n",
    "# group by brewerId and calculate the average ABV for each brewery\n",
    "brewery_avg_abv = df.groupby('beer_brewerId')['beer_ABV'].mean()\n",
    "\n",
    "# sort breweries by average ABV in descending order and select the top 3\n",
    "top_3_breweries = brewery_avg_abv.sort_values(ascending=False).head(3)\n",
    "\n",
    "print(\"Top 3 Breweries Producing the Strongest Beers:\")\n",
    "print(top_3_breweries)\n"
   ]
  },
  {
   "cell_type": "markdown",
   "metadata": {},
   "source": [
    "2. Which year did beers enjoy the highest ratings? "
   ]
  },
  {
   "cell_type": "code",
   "execution_count": 299,
   "metadata": {},
   "outputs": [
    {
     "name": "stdout",
     "output_type": "stream",
     "text": [
      "Year with the highest average ratings for beers: 2012\n"
     ]
    }
   ],
   "source": [
    "# convert review_time to datetime\n",
    "df['review_time'] = pd.to_datetime(df['review_time'], unit='s')\n",
    "\n",
    "# extract year from review_time\n",
    "df['year'] = df['review_time'].dt.year\n",
    "\n",
    "# group by year and calculate the average rating for each year\n",
    "average_ratings_by_year = df.groupby('year')['review_overall'].mean()\n",
    "\n",
    "# find the year with the highest average rating\n",
    "highest_rated_year = average_ratings_by_year.idxmax()\n",
    "\n",
    "print(\"Year with the highest average ratings for beers:\", highest_rated_year)"
   ]
  },
  {
   "cell_type": "markdown",
   "metadata": {},
   "source": [
    "3. Based on the user’s ratings which factors are important among taste, aroma, appearance, and palette?"
   ]
  },
  {
   "cell_type": "code",
   "execution_count": 300,
   "metadata": {},
   "outputs": [
    {
     "name": "stdout",
     "output_type": "stream",
     "text": [
      "Correlation between each factor and overall review rating:\n",
      "review_aroma         0.846082\n",
      "review_taste         0.783294\n",
      "review_palette       0.739443\n",
      "review_appearance    0.657417\n",
      "Name: review_overall, dtype: float64\n"
     ]
    }
   ],
   "source": [
    "# Calculate correlation matrix\n",
    "correlation_matrix = df[['review_taste', 'review_aroma', 'review_appearance', 'review_palette', 'review_overall']].corr()\n",
    "\n",
    "# Extract correlations with review_overall\n",
    "correlations_with_overall = correlation_matrix['review_overall'].drop('review_overall')\n",
    "\n",
    "# Sort correlations in descending order\n",
    "sorted_correlations = correlations_with_overall.sort_values(ascending=False)\n",
    "\n",
    "print(\"Correlation between each factor and overall review rating:\")\n",
    "print(sorted_correlations)"
   ]
  },
  {
   "cell_type": "markdown",
   "metadata": {},
   "source": [
    "so review_aroma has highest corellation which is important"
   ]
  },
  {
   "cell_type": "markdown",
   "metadata": {},
   "source": [
    "4. If you were to recommend 3 beers to your friends based on this data which ones will you recommend? * need to edit"
   ]
  },
  {
   "cell_type": "code",
   "execution_count": 301,
   "metadata": {},
   "outputs": [
    {
     "name": "stdout",
     "output_type": "stream",
     "text": [
      "Recommended beers for my friends:\n"
     ]
    },
    {
     "data": {
      "text/html": [
       "<div>\n",
       "<style scoped>\n",
       "    .dataframe tbody tr th:only-of-type {\n",
       "        vertical-align: middle;\n",
       "    }\n",
       "\n",
       "    .dataframe tbody tr th {\n",
       "        vertical-align: top;\n",
       "    }\n",
       "\n",
       "    .dataframe thead th {\n",
       "        text-align: right;\n",
       "    }\n",
       "</style>\n",
       "<table border=\"1\" class=\"dataframe\">\n",
       "  <thead>\n",
       "    <tr style=\"text-align: right;\">\n",
       "      <th></th>\n",
       "      <th>beer_name</th>\n",
       "      <th>weighted_rating</th>\n",
       "      <th>review_text</th>\n",
       "    </tr>\n",
       "  </thead>\n",
       "  <tbody>\n",
       "    <tr>\n",
       "      <th>1533</th>\n",
       "      <td>T.J.'s Best Bitter</td>\n",
       "      <td>5.00</td>\n",
       "      <td>Holy crap. This beer is amazing. Wow. Holy cra...</td>\n",
       "    </tr>\n",
       "    <tr>\n",
       "      <th>433</th>\n",
       "      <td>Caldera IPA</td>\n",
       "      <td>5.00</td>\n",
       "      <td>12 oz can poured into duvel snifter A - pours ...</td>\n",
       "    </tr>\n",
       "    <tr>\n",
       "      <th>281</th>\n",
       "      <td>Old Growth Imperial Stout</td>\n",
       "      <td>4.95</td>\n",
       "      <td>Aroma is absolutely heavenly - smoky with firm...</td>\n",
       "    </tr>\n",
       "  </tbody>\n",
       "</table>\n",
       "</div>"
      ],
      "text/plain": [
       "                      beer_name  weighted_rating  \\\n",
       "1533         T.J.'s Best Bitter             5.00   \n",
       "433                 Caldera IPA             5.00   \n",
       "281   Old Growth Imperial Stout             4.95   \n",
       "\n",
       "                                            review_text  \n",
       "1533  Holy crap. This beer is amazing. Wow. Holy cra...  \n",
       "433   12 oz can poured into duvel snifter A - pours ...  \n",
       "281   Aroma is absolutely heavenly - smoky with firm...  "
      ]
     },
     "execution_count": 301,
     "metadata": {},
     "output_type": "execute_result"
    }
   ],
   "source": [
    "# assigning custom weights\n",
    "weights = {'review_overall': 0.4, 'review_taste': 0.2, 'review_aroma': 0.1, 'review_appearance': 0.1, 'review_palette': 0.2}\n",
    "df['weighted_rating'] = (df[list(weights.keys())] * pd.Series(weights)).sum(axis=1)\n",
    "\n",
    "# sort beers by weighted rating in descending order\n",
    "recommended_beers = df.sort_values(by='weighted_rating', ascending=False).head(3)\n",
    "\n",
    "print(\"Recommended beers for my friends:\")\n",
    "#print(recommended_beers[['beer_name', 'weighted_rating', 'review_text']])\n",
    "recommended_beers[['beer_name', 'weighted_rating', 'review_text']].head(3)"
   ]
  },
  {
   "cell_type": "markdown",
   "metadata": {},
   "source": [
    "how the weights were decided:\n",
    "\n",
    "Review Overall: represents the overall review rating given by users. Since it reflects the overall satisfaction with the beer; highest weight of 0.4\n",
    "Review Taste: taste is a crucial aspect of beer enjoyment; 0.2, reflecting its importance in the overall rating\n",
    "Review Aroma: aroma contributes significantly to the sensory experience of drinking beer, but it may be slightly less important than taste; 0.1\n",
    "Review Appearance: can influence the initial impression of a beer, overall enjoyment may be lower compared to taste and aroma; 0.1\n",
    "Review Palette: mouthfeel or texture of the beer; 0.2"
   ]
  },
  {
   "cell_type": "markdown",
   "metadata": {},
   "source": [
    "5. Which Beer style seems to be the favorite based on reviews written by users?, 6. How does written review compare to overall review score for the beer styles?"
   ]
  },
  {
   "cell_type": "code",
   "execution_count": 302,
   "metadata": {},
   "outputs": [
    {
     "data": {
      "text/html": [
       "<div>\n",
       "<style scoped>\n",
       "    .dataframe tbody tr th:only-of-type {\n",
       "        vertical-align: middle;\n",
       "    }\n",
       "\n",
       "    .dataframe tbody tr th {\n",
       "        vertical-align: top;\n",
       "    }\n",
       "\n",
       "    .dataframe thead th {\n",
       "        text-align: right;\n",
       "    }\n",
       "</style>\n",
       "<table border=\"1\" class=\"dataframe\">\n",
       "  <thead>\n",
       "    <tr style=\"text-align: right;\">\n",
       "      <th></th>\n",
       "      <th>beer_beerId</th>\n",
       "      <th>beer_name</th>\n",
       "      <th>beer_ABV</th>\n",
       "      <th>beer_style</th>\n",
       "      <th>review_overall</th>\n",
       "      <th>review_text</th>\n",
       "    </tr>\n",
       "  </thead>\n",
       "  <tbody>\n",
       "    <tr>\n",
       "      <th>0</th>\n",
       "      <td>64883</td>\n",
       "      <td>Cauldron DIPA</td>\n",
       "      <td>7.7</td>\n",
       "      <td>American Double / Imperial IPA</td>\n",
       "      <td>4.0</td>\n",
       "      <td>According to the website, the style for the Ca...</td>\n",
       "    </tr>\n",
       "    <tr>\n",
       "      <th>1</th>\n",
       "      <td>52159</td>\n",
       "      <td>Caldera Ginger Beer</td>\n",
       "      <td>4.7</td>\n",
       "      <td>Herbed / Spiced Beer</td>\n",
       "      <td>4.0</td>\n",
       "      <td>I'm not sure why I picked this up... I like gi...</td>\n",
       "    </tr>\n",
       "    <tr>\n",
       "      <th>2</th>\n",
       "      <td>52159</td>\n",
       "      <td>Caldera Ginger Beer</td>\n",
       "      <td>4.7</td>\n",
       "      <td>Herbed / Spiced Beer</td>\n",
       "      <td>4.5</td>\n",
       "      <td>Poured from a 22oz bomber into my Drie Fontein...</td>\n",
       "    </tr>\n",
       "    <tr>\n",
       "      <th>3</th>\n",
       "      <td>52159</td>\n",
       "      <td>Caldera Ginger Beer</td>\n",
       "      <td>4.7</td>\n",
       "      <td>Herbed / Spiced Beer</td>\n",
       "      <td>5.0</td>\n",
       "      <td>OK, so the only reason I bought this while sho...</td>\n",
       "    </tr>\n",
       "    <tr>\n",
       "      <th>4</th>\n",
       "      <td>52159</td>\n",
       "      <td>Caldera Ginger Beer</td>\n",
       "      <td>4.7</td>\n",
       "      <td>Herbed / Spiced Beer</td>\n",
       "      <td>4.0</td>\n",
       "      <td>Notes from 6/24 A: Bright golden glowing beer ...</td>\n",
       "    </tr>\n",
       "  </tbody>\n",
       "</table>\n",
       "</div>"
      ],
      "text/plain": [
       "   beer_beerId            beer_name  beer_ABV                      beer_style  \\\n",
       "0        64883        Cauldron DIPA       7.7  American Double / Imperial IPA   \n",
       "1        52159  Caldera Ginger Beer       4.7            Herbed / Spiced Beer   \n",
       "2        52159  Caldera Ginger Beer       4.7            Herbed / Spiced Beer   \n",
       "3        52159  Caldera Ginger Beer       4.7            Herbed / Spiced Beer   \n",
       "4        52159  Caldera Ginger Beer       4.7            Herbed / Spiced Beer   \n",
       "\n",
       "   review_overall                                        review_text  \n",
       "0             4.0  According to the website, the style for the Ca...  \n",
       "1             4.0  I'm not sure why I picked this up... I like gi...  \n",
       "2             4.5  Poured from a 22oz bomber into my Drie Fontein...  \n",
       "3             5.0  OK, so the only reason I bought this while sho...  \n",
       "4             4.0  Notes from 6/24 A: Bright golden glowing beer ...  "
      ]
     },
     "execution_count": 302,
     "metadata": {},
     "output_type": "execute_result"
    }
   ],
   "source": [
    "# taking relevant columns\n",
    "reviewTextData = data[['beer_beerId','beer_name','beer_ABV','beer_style','review_overall','review_text']]\n",
    "\n",
    "# taking higher ranked reviews only >/=4 (from the overall reviews column)\n",
    "reviewTextData = reviewTextData.loc[reviewTextData['review_overall'] >= 4]\n",
    "\n",
    "# resetting Index\n",
    "reviewTextData.reset_index(drop=True,inplace=True)\n",
    "\n",
    "reviewTextData.head()"
   ]
  },
  {
   "cell_type": "code",
   "execution_count": 303,
   "metadata": {},
   "outputs": [
    {
     "data": {
      "text/plain": [
       "\"According to the website, the style for the Caldera Cauldron changes every year. The current release is a DIPA, which frankly is the only cauldron I'm familiar with (it was an IPA/DIPA the last time I ordered a cauldron at the horsebrass several years back). In any event... at the Horse Brass yesterday. The beer pours an orange copper color with good head retention and lacing. The nose is all hoppy IPA goodness, showcasing a huge aroma of dry citrus, pine and sandlewood. The flavor profile replicates the nose pretty closely in this West Coast all the way DIPA. This DIPA is not for the faint of heart and is a bit much even for a hophead like myslf. The finish is quite dry and hoppy, and there's barely enough sweet malt to balance and hold up the avalanche of hoppy bitterness in this beer. Mouthfeel is actually fairly light, with a long, persistentely bitter finish. Drinkability is good, with the alcohol barely noticeable in this well crafted beer. Still, this beer is so hugely hoppy/bitter, it's really hard for me to imagine ordering more than a single glass. Regardless, this is a very impressive beer from the folks at Caldera.\""
      ]
     },
     "execution_count": 303,
     "metadata": {},
     "output_type": "execute_result"
    }
   ],
   "source": [
    "reviewTextData.review_text[0]"
   ]
  },
  {
   "cell_type": "code",
   "execution_count": 304,
   "metadata": {},
   "outputs": [],
   "source": [
    "# text preprocessing\n",
    "import re\n",
    "\n",
    "# initial text processing replacing short forms\n",
    "def decontracted(phrase):\n",
    "    # specific\n",
    "    phrase = re.sub(r\"won't\", \"will not\", phrase)\n",
    "    phrase = re.sub(r\"can\\'t\", \"can not\", phrase)\n",
    "    phrase = re.sub(r\"it\\'s\", \"it is\", phrase)\n",
    "\n",
    "    # general\n",
    "    phrase = re.sub(r\"n\\'t\", \" not\", phrase)\n",
    "    phrase = re.sub(r\"\\'re\", \" are\", phrase)\n",
    "    phrase = re.sub(r\"\\'s\", \" is\", phrase)\n",
    "    phrase = re.sub(r\"\\'d\", \" would\", phrase)\n",
    "    phrase = re.sub(r\"\\'ll\", \" will\", phrase)\n",
    "    phrase = re.sub(r\"\\'t\", \" not\", phrase)\n",
    "    phrase = re.sub(r\"\\'ve\", \" have\", phrase)\n",
    "    phrase = re.sub(r\"\\'m\", \" am\", phrase)\n",
    "    \n",
    "    return phrase"
   ]
  },
  {
   "cell_type": "code",
   "execution_count": 305,
   "metadata": {},
   "outputs": [
    {
     "name": "stderr",
     "output_type": "stream",
     "text": [
      "100%|██████████| 835/835 [00:00<00:00, 12732.65it/s]\n"
     ]
    }
   ],
   "source": [
    "# extracting text reviews and applying text preprocessing on it\n",
    "preprocessed_reviews = []\n",
    "\n",
    "for sentance in tqdm(reviewTextData['review_text'].values): # tqdm prints the status bar\n",
    "    sentance = decontracted(sentance) # deconstructiong short forms\n",
    "    sentance = re.sub(\"\\S*\\d\\S*\", \"\", sentance).strip() # remove words with numbers \n",
    "    \n",
    "    preprocessed_reviews.append(sentance) # form sentence again"
   ]
  },
  {
   "cell_type": "code",
   "execution_count": 306,
   "metadata": {},
   "outputs": [
    {
     "data": {
      "text/plain": [
       "'According to the website, the style for the Caldera Cauldron changes every year. The current release is a DIPA, which frankly is the only cauldron I am familiar with (it was an IPA/DIPA the last time I ordered a cauldron at the horsebrass several years back). In any event... at the Horse Brass yesterday. The beer pours an orange copper color with good head retention and lacing. The nose is all hoppy IPA goodness, showcasing a huge aroma of dry citrus, pine and sandlewood. The flavor profile replicates the nose pretty closely in this West Coast all the way DIPA. This DIPA is not for the faint of heart and is a bit much even for a hophead like myslf. The finish is quite dry and hoppy, and there is barely enough sweet malt to balance and hold up the avalanche of hoppy bitterness in this beer. Mouthfeel is actually fairly light, with a long, persistentely bitter finish. Drinkability is good, with the alcohol barely noticeable in this well crafted beer. Still, this beer is so hugely hoppy/bitter, it is really hard for me to imagine ordering more than a single glass. Regardless, this is a very impressive beer from the folks at Caldera.'"
      ]
     },
     "execution_count": 306,
     "metadata": {},
     "output_type": "execute_result"
    }
   ],
   "source": [
    "preprocessed_reviews[0]"
   ]
  },
  {
   "cell_type": "code",
   "execution_count": 307,
   "metadata": {},
   "outputs": [],
   "source": [
    "# appending preprocessed reviews to the filtered dataframe\n",
    "reviewTextData['preprocessed_review_text'] = preprocessed_reviews"
   ]
  },
  {
   "cell_type": "code",
   "execution_count": 308,
   "metadata": {},
   "outputs": [
    {
     "name": "stderr",
     "output_type": "stream",
     "text": [
      "100%|██████████| 835/835 [00:00<00:00, 942.40it/s]\n"
     ]
    }
   ],
   "source": [
    "# instantiating Sentiment Analyzer\n",
    "sianalyzer = SentimentIntensityAnalyzer()\n",
    "\n",
    "# loop over the 'preprocessed_review_text' column and calculate the polarity score for each review\n",
    "reviewTextData['polarity_score2'] = reviewTextData['preprocessed_review_text'].progress_apply(lambda x: sianalyzer.polarity_scores(x)['compound'])"
   ]
  },
  {
   "cell_type": "code",
   "execution_count": 309,
   "metadata": {},
   "outputs": [
    {
     "data": {
      "text/plain": [
       "beer_style\n",
       "Dortmunder / Export Lager    0.9826\n",
       "English Porter               0.9668\n",
       "American Blonde Ale          0.9659\n",
       "Märzen / Oktoberfest         0.9626\n",
       "Cream Ale                    0.9587\n",
       "Name: polarity_score2, dtype: float64"
      ]
     },
     "execution_count": 309,
     "metadata": {},
     "output_type": "execute_result"
    }
   ],
   "source": [
    "# grouping and calculate mean polarity score\n",
    "reviewTextDataGroupped = reviewTextData.groupby('beer_style')['polarity_score2'].mean()\n",
    "\n",
    "# sort the grouped data by mean polarity score\n",
    "reviewTextDataGroupped.sort_values(ascending=False)[0:5]"
   ]
  },
  {
   "cell_type": "code",
   "execution_count": 310,
   "metadata": {},
   "outputs": [
    {
     "data": {
      "text/html": [
       "<div>\n",
       "<style scoped>\n",
       "    .dataframe tbody tr th:only-of-type {\n",
       "        vertical-align: middle;\n",
       "    }\n",
       "\n",
       "    .dataframe tbody tr th {\n",
       "        vertical-align: top;\n",
       "    }\n",
       "\n",
       "    .dataframe thead th {\n",
       "        text-align: right;\n",
       "    }\n",
       "</style>\n",
       "<table border=\"1\" class=\"dataframe\">\n",
       "  <thead>\n",
       "    <tr style=\"text-align: right;\">\n",
       "      <th></th>\n",
       "      <th>beer_beerId</th>\n",
       "      <th>beer_name</th>\n",
       "      <th>beer_ABV</th>\n",
       "      <th>beer_style</th>\n",
       "      <th>review_overall</th>\n",
       "      <th>review_text</th>\n",
       "      <th>preprocessed_review_text</th>\n",
       "      <th>polarity_score2</th>\n",
       "    </tr>\n",
       "  </thead>\n",
       "  <tbody>\n",
       "    <tr>\n",
       "      <th>225</th>\n",
       "      <td>61427</td>\n",
       "      <td>Caldera Rose Petal (Kettle Series)</td>\n",
       "      <td>6.7</td>\n",
       "      <td>American Blonde Ale</td>\n",
       "      <td>4.0</td>\n",
       "      <td>A- is cloudy and light glassy goldeness S- sme...</td>\n",
       "      <td>A- is cloudy and light glassy goldeness S- sme...</td>\n",
       "      <td>0.9693</td>\n",
       "    </tr>\n",
       "    <tr>\n",
       "      <th>226</th>\n",
       "      <td>61427</td>\n",
       "      <td>Caldera Rose Petal (Kettle Series)</td>\n",
       "      <td>6.7</td>\n",
       "      <td>American Blonde Ale</td>\n",
       "      <td>4.0</td>\n",
       "      <td>It's a beautiful beer to look at. Pours crysta...</td>\n",
       "      <td>It is a beautiful beer to look at. Pours cryst...</td>\n",
       "      <td>0.9827</td>\n",
       "    </tr>\n",
       "    <tr>\n",
       "      <th>810</th>\n",
       "      <td>38275</td>\n",
       "      <td>Alaskan Summer Ale</td>\n",
       "      <td>5.5</td>\n",
       "      <td>American Blonde Ale</td>\n",
       "      <td>4.0</td>\n",
       "      <td>A: Poured a straw yellow color with a 1 finger...</td>\n",
       "      <td>A: Poured a straw yellow color with a  finger ...</td>\n",
       "      <td>0.9457</td>\n",
       "    </tr>\n",
       "  </tbody>\n",
       "</table>\n",
       "</div>"
      ],
      "text/plain": [
       "     beer_beerId                           beer_name  beer_ABV  \\\n",
       "225        61427  Caldera Rose Petal (Kettle Series)       6.7   \n",
       "226        61427  Caldera Rose Petal (Kettle Series)       6.7   \n",
       "810        38275                  Alaskan Summer Ale       5.5   \n",
       "\n",
       "              beer_style  review_overall  \\\n",
       "225  American Blonde Ale             4.0   \n",
       "226  American Blonde Ale             4.0   \n",
       "810  American Blonde Ale             4.0   \n",
       "\n",
       "                                           review_text  \\\n",
       "225  A- is cloudy and light glassy goldeness S- sme...   \n",
       "226  It's a beautiful beer to look at. Pours crysta...   \n",
       "810  A: Poured a straw yellow color with a 1 finger...   \n",
       "\n",
       "                              preprocessed_review_text  polarity_score2  \n",
       "225  A- is cloudy and light glassy goldeness S- sme...           0.9693  \n",
       "226  It is a beautiful beer to look at. Pours cryst...           0.9827  \n",
       "810  A: Poured a straw yellow color with a  finger ...           0.9457  "
      ]
     },
     "execution_count": 310,
     "metadata": {},
     "output_type": "execute_result"
    }
   ],
   "source": [
    "# observing the top 'polarity_score2' and 'beer_beerId' associated with i\n",
    "reviewTextData.loc[reviewTextData['beer_style'] == 'Dortmunder / Export Lager']\n",
    "reviewTextData.loc[reviewTextData['beer_style'] == 'American Blonde Ale']"
   ]
  },
  {
   "cell_type": "markdown",
   "metadata": {},
   "source": [
    "5. By observing the mean compound polarity score , we can say that the beer style \"Dortmunder / Export Lager\" is liked most but has only one person that likes it as much, we can instead say \"American Blonde Ale\" is the most famous, based on combination of polarity and higher frequency"
   ]
  },
  {
   "cell_type": "markdown",
   "metadata": {},
   "source": [
    "6. By observing the mean compound polarity score calculated we can get an idea how the user written review text is collaborating in calculating the overall review score"
   ]
  },
  {
   "cell_type": "markdown",
   "metadata": {},
   "source": [
    "7. How to find similar beer drinkers by using written reviews only?   "
   ]
  },
  {
   "cell_type": "code",
   "execution_count": 311,
   "metadata": {},
   "outputs": [],
   "source": [
    "from sklearn.feature_extraction.text import TfidfVectorizer\n",
    "from sklearn.metrics.pairwise import cosine_similarity"
   ]
  },
  {
   "cell_type": "code",
   "execution_count": 312,
   "metadata": {},
   "outputs": [
    {
     "data": {
      "text/plain": [
       "Index(['beer_beerId', 'beer_name', 'beer_ABV', 'beer_style', 'review_overall',\n",
       "       'review_text', 'preprocessed_review_text', 'polarity_score2'],\n",
       "      dtype='object')"
      ]
     },
     "execution_count": 312,
     "metadata": {},
     "output_type": "execute_result"
    }
   ],
   "source": [
    "reviewTextData.columns"
   ]
  },
  {
   "cell_type": "code",
   "execution_count": 313,
   "metadata": {},
   "outputs": [],
   "source": [
    "# feature Extraction\n",
    "# initialize TF-IDF vectorizer\n",
    "tfidf_vectorizer = TfidfVectorizer()\n",
    "\n",
    "# fit and transform the preprocessed text data to create TF-IDF features\n",
    "tfidf_matrix = tfidf_vectorizer.fit_transform(reviewTextData['preprocessed_review_text'])\n",
    "\n",
    "# similarity calculation\n",
    "# calculate cosine similarity between user reviews\n",
    "cosine_similarities = cosine_similarity(tfidf_matrix, tfidf_matrix)"
   ]
  },
  {
   "cell_type": "code",
   "execution_count": 314,
   "metadata": {},
   "outputs": [],
   "source": [
    "from sklearn.cluster import KMeans"
   ]
  },
  {
   "cell_type": "code",
   "execution_count": 315,
   "metadata": {},
   "outputs": [
    {
     "name": "stderr",
     "output_type": "stream",
     "text": [
      "c:\\Users\\cavit\\AppData\\Local\\Programs\\Python\\Python311\\Lib\\site-packages\\sklearn\\cluster\\_kmeans.py:1412: FutureWarning: The default value of `n_init` will change from 10 to 'auto' in 1.4. Set the value of `n_init` explicitly to suppress the warning\n",
      "  super()._check_params_vs_input(X, default_n_init=10)\n"
     ]
    },
    {
     "name": "stdout",
     "output_type": "stream",
     "text": [
      "Cluster 2: [0, 3, 12, 24, 25, 31, 32, 36, 40, 47, 50, 54, 59, 64, 65, 67, 74, 75, 76, 77, 79, 90, 93, 94, 95, 96, 102, 108, 112, 114, 116, 117, 118, 124, 127, 130, 132, 137, 142, 145, 156, 158, 171, 174, 177, 178, 182, 194, 199, 209, 210, 221, 222, 224, 230, 234, 237, 240, 247, 248, 250, 252, 257, 261, 263, 264, 265, 270, 271, 276, 277, 278, 279, 281, 283, 284, 285, 289, 290, 291, 296, 298, 299, 302, 303, 304, 305, 306, 307, 311, 317, 319, 324, 326, 328, 329, 333, 335, 337, 341, 342, 343, 344, 350, 352, 353, 354, 355, 356, 357, 358, 360, 361, 363, 365, 366, 370, 371, 375, 377, 380, 382, 385, 386, 388, 393, 399, 401, 402, 403, 407, 408, 409, 410, 430, 434, 438, 445, 449, 452, 453, 455, 458, 462, 463, 464, 465, 466, 467, 468, 470, 473, 474, 479, 487, 492, 495, 496, 497, 506, 508, 511, 512, 513, 515, 517, 520, 523, 525, 528, 531, 532, 536, 546, 549, 553, 559, 561, 569, 573, 574, 576, 579, 581, 584, 585, 587, 604, 606, 607, 610, 611, 615, 616, 617, 621, 630, 631, 632, 633, 636, 638, 639, 641, 644, 646, 648, 650, 688, 698, 700, 706, 707, 710, 720, 730, 735, 759, 773, 781, 789, 815, 827, 830]\n",
      "Cluster 1: [1, 4, 8, 10, 11, 13, 14, 19, 22, 26, 27, 28, 29, 33, 35, 39, 41, 43, 44, 46, 48, 51, 56, 63, 71, 73, 78, 81, 83, 98, 106, 110, 113, 115, 120, 121, 122, 125, 126, 131, 139, 144, 148, 149, 153, 155, 161, 162, 163, 165, 166, 167, 168, 170, 172, 173, 175, 176, 185, 186, 187, 188, 192, 193, 195, 198, 200, 201, 203, 205, 207, 208, 211, 213, 215, 218, 219, 220, 223, 227, 228, 229, 231, 238, 245, 246, 249, 253, 254, 256, 259, 266, 274, 275, 280, 293, 297, 301, 308, 314, 318, 332, 334, 339, 347, 351, 372, 376, 378, 383, 390, 397, 415, 423, 427, 429, 436, 439, 442, 443, 450, 461, 480, 481, 486, 494, 498, 503, 516, 518, 526, 535, 538, 539, 540, 542, 544, 547, 551, 552, 554, 555, 556, 558, 560, 566, 575, 589, 590, 593, 595, 597, 599, 603, 605, 612, 613, 618, 619, 625, 628, 629, 640, 642, 643, 651, 653, 654, 655, 656, 657, 660, 665, 666, 667, 668, 671, 672, 674, 678, 680, 681, 682, 683, 684, 686, 687, 690, 692, 694, 695, 696, 697, 702, 704, 705, 709, 711, 714, 715, 718, 722, 725, 728, 731, 733, 736, 738, 739, 740, 741, 742, 745, 746, 747, 748, 750, 751, 753, 754, 755, 761, 762, 763, 765, 768, 769, 770, 774, 780, 783, 784, 788, 790, 791, 793, 795, 797, 798, 799, 800, 801, 802, 803, 804, 806, 809, 810, 811, 812, 813, 814, 817, 819, 823, 824, 826, 828, 829, 831, 832, 833, 834]\n",
      "Cluster 0: [2, 5, 6, 7, 9, 15, 16, 17, 18, 20, 21, 23, 30, 34, 37, 38, 42, 45, 49, 52, 53, 55, 57, 58, 60, 61, 62, 66, 68, 69, 70, 72, 80, 82, 84, 85, 86, 87, 88, 89, 91, 92, 97, 99, 100, 101, 103, 104, 105, 107, 109, 111, 119, 123, 128, 129, 133, 134, 135, 136, 138, 140, 141, 143, 146, 147, 150, 151, 152, 154, 157, 159, 160, 164, 169, 179, 180, 181, 183, 184, 189, 190, 191, 196, 197, 202, 204, 206, 212, 214, 216, 217, 225, 226, 232, 233, 235, 236, 239, 241, 242, 243, 244, 251, 255, 258, 260, 262, 267, 268, 269, 272, 273, 282, 286, 287, 288, 292, 294, 295, 300, 309, 310, 312, 313, 315, 316, 320, 321, 322, 323, 325, 327, 330, 331, 336, 338, 340, 345, 346, 348, 349, 359, 362, 364, 367, 368, 369, 373, 374, 379, 381, 384, 387, 389, 391, 392, 394, 395, 396, 398, 400, 404, 405, 406, 411, 412, 413, 414, 416, 417, 418, 419, 420, 421, 422, 424, 425, 426, 428, 431, 432, 433, 435, 437, 440, 441, 444, 446, 447, 448, 451, 454, 456, 457, 459, 460, 469, 471, 472, 475, 476, 477, 478, 482, 483, 484, 485, 488, 489, 490, 491, 493, 499, 500, 501, 502, 504, 505, 507, 509, 510, 514, 519, 521, 522, 524, 527, 529, 530, 533, 534, 537, 541, 543, 545, 548, 550, 557, 562, 563, 564, 565, 567, 568, 570, 571, 572, 577, 578, 580, 582, 583, 586, 588, 591, 592, 594, 596, 598, 600, 601, 602, 608, 609, 614, 620, 622, 623, 624, 626, 627, 634, 635, 637, 645, 647, 649, 652, 658, 659, 661, 662, 663, 664, 669, 670, 673, 675, 676, 677, 679, 685, 689, 691, 693, 699, 701, 703, 708, 712, 713, 716, 717, 719, 721, 723, 724, 726, 727, 729, 732, 734, 737, 743, 744, 749, 752, 756, 757, 758, 760, 764, 766, 767, 771, 772, 775, 776, 777, 778, 779, 782, 785, 786, 787, 792, 794, 796, 805, 807, 808, 816, 818, 820, 821, 822, 825]\n"
     ]
    }
   ],
   "source": [
    "# grouping together similiar customers based on reviews\n",
    "kmeans = KMeans(n_clusters=3)\n",
    "clusters = kmeans.fit_predict(cosine_similarities)\n",
    "\n",
    "# analyze cluster assignments\n",
    "# assign each user to a cluster\n",
    "user_clusters = {}\n",
    "\n",
    "for user_id, cluster_id in enumerate(clusters):\n",
    "    if cluster_id not in user_clusters:\n",
    "        user_clusters[cluster_id] = []\n",
    "    user_clusters[cluster_id].append(user_id)\n",
    "\n",
    "# print the users in each cluster\n",
    "for cluster_id, users in user_clusters.items():\n",
    "    print(f\"Cluster {cluster_id}: {users}\")"
   ]
  }
 ],
 "metadata": {
  "kernelspec": {
   "display_name": "Python 3",
   "language": "python",
   "name": "python3"
  },
  "language_info": {
   "codemirror_mode": {
    "name": "ipython",
    "version": 3
   },
   "file_extension": ".py",
   "mimetype": "text/x-python",
   "name": "python",
   "nbconvert_exporter": "python",
   "pygments_lexer": "ipython3",
   "version": "3.11.2"
  }
 },
 "nbformat": 4,
 "nbformat_minor": 2
}
